{
 "cells": [
  {
   "cell_type": "code",
   "execution_count": 35,
   "metadata": {},
   "outputs": [],
   "source": [
    "# Importing the libraries\n",
    "import numpy as np\n",
    "import matplotlib.pyplot as plt\n",
    "import pandas as pd"
   ]
  },
  {
   "cell_type": "code",
   "execution_count": 36,
   "metadata": {},
   "outputs": [],
   "source": [
    "# Importing the dataset\n",
    "dataset = pd.read_csv('50_Startups.csv')\n",
    "X = dataset.iloc[:, :-1].values\n",
    "y = dataset.iloc[:, 4 ].values"
   ]
  },
  {
   "cell_type": "code",
   "execution_count": 37,
   "metadata": {
    "scrolled": true
   },
   "outputs": [
    {
     "data": {
      "text/html": [
       "<div>\n",
       "<style scoped>\n",
       "    .dataframe tbody tr th:only-of-type {\n",
       "        vertical-align: middle;\n",
       "    }\n",
       "\n",
       "    .dataframe tbody tr th {\n",
       "        vertical-align: top;\n",
       "    }\n",
       "\n",
       "    .dataframe thead th {\n",
       "        text-align: right;\n",
       "    }\n",
       "</style>\n",
       "<table border=\"1\" class=\"dataframe\">\n",
       "  <thead>\n",
       "    <tr style=\"text-align: right;\">\n",
       "      <th></th>\n",
       "      <th>R&amp;D Spend</th>\n",
       "      <th>Administration</th>\n",
       "      <th>Marketing Spend</th>\n",
       "      <th>State</th>\n",
       "      <th>Profit</th>\n",
       "    </tr>\n",
       "  </thead>\n",
       "  <tbody>\n",
       "    <tr>\n",
       "      <th>0</th>\n",
       "      <td>165349.20</td>\n",
       "      <td>136897.80</td>\n",
       "      <td>471784.10</td>\n",
       "      <td>New York</td>\n",
       "      <td>192261.83</td>\n",
       "    </tr>\n",
       "    <tr>\n",
       "      <th>1</th>\n",
       "      <td>162597.70</td>\n",
       "      <td>151377.59</td>\n",
       "      <td>443898.53</td>\n",
       "      <td>California</td>\n",
       "      <td>191792.06</td>\n",
       "    </tr>\n",
       "    <tr>\n",
       "      <th>2</th>\n",
       "      <td>153441.51</td>\n",
       "      <td>101145.55</td>\n",
       "      <td>407934.54</td>\n",
       "      <td>Florida</td>\n",
       "      <td>191050.39</td>\n",
       "    </tr>\n",
       "    <tr>\n",
       "      <th>3</th>\n",
       "      <td>144372.41</td>\n",
       "      <td>118671.85</td>\n",
       "      <td>383199.62</td>\n",
       "      <td>New York</td>\n",
       "      <td>182901.99</td>\n",
       "    </tr>\n",
       "    <tr>\n",
       "      <th>4</th>\n",
       "      <td>142107.34</td>\n",
       "      <td>91391.77</td>\n",
       "      <td>366168.42</td>\n",
       "      <td>Florida</td>\n",
       "      <td>166187.94</td>\n",
       "    </tr>\n",
       "  </tbody>\n",
       "</table>\n",
       "</div>"
      ],
      "text/plain": [
       "   R&D Spend  Administration  Marketing Spend       State     Profit\n",
       "0  165349.20       136897.80        471784.10    New York  192261.83\n",
       "1  162597.70       151377.59        443898.53  California  191792.06\n",
       "2  153441.51       101145.55        407934.54     Florida  191050.39\n",
       "3  144372.41       118671.85        383199.62    New York  182901.99\n",
       "4  142107.34        91391.77        366168.42     Florida  166187.94"
      ]
     },
     "execution_count": 37,
     "metadata": {},
     "output_type": "execute_result"
    }
   ],
   "source": [
    "dataset.head()"
   ]
  },
  {
   "cell_type": "code",
   "execution_count": 38,
   "metadata": {},
   "outputs": [],
   "source": [
    "X[:,[0,1,2]] = X[:,[0,1,2]].astype(int)"
   ]
  },
  {
   "cell_type": "code",
   "execution_count": 39,
   "metadata": {},
   "outputs": [
    {
     "data": {
      "text/plain": [
       "array([[165349, 136897, 471784, 'New York'],\n",
       "       [162597, 151377, 443898, 'California'],\n",
       "       [153441, 101145, 407934, 'Florida'],\n",
       "       [144372, 118671, 383199, 'New York'],\n",
       "       [142107, 91391, 366168, 'Florida'],\n",
       "       [131876, 99814, 362861, 'New York'],\n",
       "       [134615, 147198, 127716, 'California'],\n",
       "       [130298, 145530, 323876, 'Florida'],\n",
       "       [120542, 148718, 311613, 'New York'],\n",
       "       [123334, 108679, 304981, 'California'],\n",
       "       [101913, 110594, 229160, 'Florida'],\n",
       "       [100671, 91790, 249744, 'California'],\n",
       "       [93863, 127320, 249839, 'Florida'],\n",
       "       [91992, 135495, 252664, 'California'],\n",
       "       [119943, 156547, 256512, 'Florida'],\n",
       "       [114523, 122616, 261776, 'New York'],\n",
       "       [78013, 121597, 264346, 'California'],\n",
       "       [94657, 145077, 282574, 'New York'],\n",
       "       [91749, 114175, 294919, 'Florida'],\n",
       "       [86419, 153514, 0, 'New York'],\n",
       "       [76253, 113867, 298664, 'California'],\n",
       "       [78389, 153773, 299737, 'New York'],\n",
       "       [73994, 122782, 303319, 'Florida'],\n",
       "       [67532, 105751, 304768, 'Florida'],\n",
       "       [77044, 99281, 140574, 'New York'],\n",
       "       [64664, 139553, 137962, 'California'],\n",
       "       [75328, 144135, 134050, 'Florida'],\n",
       "       [72107, 127864, 353183, 'New York'],\n",
       "       [66051, 182645, 118148, 'Florida'],\n",
       "       [65605, 153032, 107138, 'New York'],\n",
       "       [61994, 115641, 91131, 'Florida'],\n",
       "       [61136, 152701, 88218, 'New York'],\n",
       "       [63408, 129219, 46085, 'California'],\n",
       "       [55493, 103057, 214634, 'Florida'],\n",
       "       [46426, 157693, 210797, 'California'],\n",
       "       [46014, 85047, 205517, 'New York'],\n",
       "       [28663, 127056, 201126, 'Florida'],\n",
       "       [44069, 51283, 197029, 'California'],\n",
       "       [20229, 65947, 185265, 'New York'],\n",
       "       [38558, 82982, 174999, 'California'],\n",
       "       [28754, 118546, 172795, 'California'],\n",
       "       [27892, 84710, 164470, 'Florida'],\n",
       "       [23640, 96189, 148001, 'California'],\n",
       "       [15505, 127382, 35534, 'New York'],\n",
       "       [22177, 154806, 28334, 'California'],\n",
       "       [1000, 124153, 1903, 'New York'],\n",
       "       [1315, 115816, 297114, 'Florida'],\n",
       "       [0, 135426, 0, 'California'],\n",
       "       [542, 51743, 0, 'New York'],\n",
       "       [0, 116983, 45173, 'California']], dtype=object)"
      ]
     },
     "execution_count": 39,
     "metadata": {},
     "output_type": "execute_result"
    }
   ],
   "source": [
    "X"
   ]
  },
  {
   "cell_type": "code",
   "execution_count": 23,
   "metadata": {},
   "outputs": [],
   "source": [
    "y = y.astype(int)"
   ]
  },
  {
   "cell_type": "code",
   "execution_count": 24,
   "metadata": {},
   "outputs": [
    {
     "data": {
      "text/plain": [
       "array([192261, 191792, 191050, 182901, 166187, 156991, 156122, 155752,\n",
       "       152211, 149759, 146121, 144259, 141585, 134307, 132602, 129917,\n",
       "       126992, 125370, 124266, 122776, 118474, 111313, 110352, 108733,\n",
       "       108552, 107404, 105733, 105008, 103282, 101004,  99937,  97483,\n",
       "        97427,  96778,  96712,  96479,  90708,  89949,  81229,  81005,\n",
       "        78239,  77798,  71498,  69758,  65200,  64926,  49490,  42559,\n",
       "        35673,  14681])"
      ]
     },
     "execution_count": 24,
     "metadata": {},
     "output_type": "execute_result"
    }
   ],
   "source": [
    "y"
   ]
  },
  {
   "cell_type": "markdown",
   "metadata": {},
   "source": [
    "# Encoding Categorical Data"
   ]
  },
  {
   "cell_type": "code",
   "execution_count": 41,
   "metadata": {},
   "outputs": [
    {
     "name": "stderr",
     "output_type": "stream",
     "text": [
      "/Users/kalyani/anaconda3/lib/python3.7/site-packages/sklearn/preprocessing/_encoders.py:371: FutureWarning: The handling of integer data will change in version 0.22. Currently, the categories are determined based on the range [0, max(values)], while in the future they will be determined based on the unique values.\n",
      "If you want the future behaviour and silence this warning, you can specify \"categories='auto'\".\n",
      "In case you used a LabelEncoder before this OneHotEncoder to convert the categories to integers, then you can now use the OneHotEncoder directly.\n",
      "  warnings.warn(msg, FutureWarning)\n",
      "/Users/kalyani/anaconda3/lib/python3.7/site-packages/sklearn/preprocessing/_encoders.py:392: DeprecationWarning: The 'categorical_features' keyword is deprecated in version 0.20 and will be removed in 0.22. You can use the ColumnTransformer instead.\n",
      "  \"use the ColumnTransformer instead.\", DeprecationWarning)\n"
     ]
    }
   ],
   "source": [
    "from sklearn.preprocessing import LabelEncoder, OneHotEncoder\n",
    "labelencoder = LabelEncoder()\n",
    "X[:, 3] = labelencoder.fit_transform(X[:, 3])\n",
    "onehotencoder = OneHotEncoder(categorical_features = [3])\n",
    "X = onehotencoder.fit_transform(X).toarray()"
   ]
  },
  {
   "cell_type": "code",
   "execution_count": 42,
   "metadata": {},
   "outputs": [],
   "source": [
    "X = X[:, 1:]"
   ]
  },
  {
   "cell_type": "code",
   "execution_count": 43,
   "metadata": {},
   "outputs": [
    {
     "data": {
      "text/plain": [
       "array([[0.00000e+00, 1.00000e+00, 1.65349e+05, 1.36897e+05, 4.71784e+05],\n",
       "       [0.00000e+00, 0.00000e+00, 1.62597e+05, 1.51377e+05, 4.43898e+05],\n",
       "       [1.00000e+00, 0.00000e+00, 1.53441e+05, 1.01145e+05, 4.07934e+05],\n",
       "       [0.00000e+00, 1.00000e+00, 1.44372e+05, 1.18671e+05, 3.83199e+05],\n",
       "       [1.00000e+00, 0.00000e+00, 1.42107e+05, 9.13910e+04, 3.66168e+05],\n",
       "       [0.00000e+00, 1.00000e+00, 1.31876e+05, 9.98140e+04, 3.62861e+05],\n",
       "       [0.00000e+00, 0.00000e+00, 1.34615e+05, 1.47198e+05, 1.27716e+05],\n",
       "       [1.00000e+00, 0.00000e+00, 1.30298e+05, 1.45530e+05, 3.23876e+05],\n",
       "       [0.00000e+00, 1.00000e+00, 1.20542e+05, 1.48718e+05, 3.11613e+05],\n",
       "       [0.00000e+00, 0.00000e+00, 1.23334e+05, 1.08679e+05, 3.04981e+05],\n",
       "       [1.00000e+00, 0.00000e+00, 1.01913e+05, 1.10594e+05, 2.29160e+05],\n",
       "       [0.00000e+00, 0.00000e+00, 1.00671e+05, 9.17900e+04, 2.49744e+05],\n",
       "       [1.00000e+00, 0.00000e+00, 9.38630e+04, 1.27320e+05, 2.49839e+05],\n",
       "       [0.00000e+00, 0.00000e+00, 9.19920e+04, 1.35495e+05, 2.52664e+05],\n",
       "       [1.00000e+00, 0.00000e+00, 1.19943e+05, 1.56547e+05, 2.56512e+05],\n",
       "       [0.00000e+00, 1.00000e+00, 1.14523e+05, 1.22616e+05, 2.61776e+05],\n",
       "       [0.00000e+00, 0.00000e+00, 7.80130e+04, 1.21597e+05, 2.64346e+05],\n",
       "       [0.00000e+00, 1.00000e+00, 9.46570e+04, 1.45077e+05, 2.82574e+05],\n",
       "       [1.00000e+00, 0.00000e+00, 9.17490e+04, 1.14175e+05, 2.94919e+05],\n",
       "       [0.00000e+00, 1.00000e+00, 8.64190e+04, 1.53514e+05, 0.00000e+00],\n",
       "       [0.00000e+00, 0.00000e+00, 7.62530e+04, 1.13867e+05, 2.98664e+05],\n",
       "       [0.00000e+00, 1.00000e+00, 7.83890e+04, 1.53773e+05, 2.99737e+05],\n",
       "       [1.00000e+00, 0.00000e+00, 7.39940e+04, 1.22782e+05, 3.03319e+05],\n",
       "       [1.00000e+00, 0.00000e+00, 6.75320e+04, 1.05751e+05, 3.04768e+05],\n",
       "       [0.00000e+00, 1.00000e+00, 7.70440e+04, 9.92810e+04, 1.40574e+05],\n",
       "       [0.00000e+00, 0.00000e+00, 6.46640e+04, 1.39553e+05, 1.37962e+05],\n",
       "       [1.00000e+00, 0.00000e+00, 7.53280e+04, 1.44135e+05, 1.34050e+05],\n",
       "       [0.00000e+00, 1.00000e+00, 7.21070e+04, 1.27864e+05, 3.53183e+05],\n",
       "       [1.00000e+00, 0.00000e+00, 6.60510e+04, 1.82645e+05, 1.18148e+05],\n",
       "       [0.00000e+00, 1.00000e+00, 6.56050e+04, 1.53032e+05, 1.07138e+05],\n",
       "       [1.00000e+00, 0.00000e+00, 6.19940e+04, 1.15641e+05, 9.11310e+04],\n",
       "       [0.00000e+00, 1.00000e+00, 6.11360e+04, 1.52701e+05, 8.82180e+04],\n",
       "       [0.00000e+00, 0.00000e+00, 6.34080e+04, 1.29219e+05, 4.60850e+04],\n",
       "       [1.00000e+00, 0.00000e+00, 5.54930e+04, 1.03057e+05, 2.14634e+05],\n",
       "       [0.00000e+00, 0.00000e+00, 4.64260e+04, 1.57693e+05, 2.10797e+05],\n",
       "       [0.00000e+00, 1.00000e+00, 4.60140e+04, 8.50470e+04, 2.05517e+05],\n",
       "       [1.00000e+00, 0.00000e+00, 2.86630e+04, 1.27056e+05, 2.01126e+05],\n",
       "       [0.00000e+00, 0.00000e+00, 4.40690e+04, 5.12830e+04, 1.97029e+05],\n",
       "       [0.00000e+00, 1.00000e+00, 2.02290e+04, 6.59470e+04, 1.85265e+05],\n",
       "       [0.00000e+00, 0.00000e+00, 3.85580e+04, 8.29820e+04, 1.74999e+05],\n",
       "       [0.00000e+00, 0.00000e+00, 2.87540e+04, 1.18546e+05, 1.72795e+05],\n",
       "       [1.00000e+00, 0.00000e+00, 2.78920e+04, 8.47100e+04, 1.64470e+05],\n",
       "       [0.00000e+00, 0.00000e+00, 2.36400e+04, 9.61890e+04, 1.48001e+05],\n",
       "       [0.00000e+00, 1.00000e+00, 1.55050e+04, 1.27382e+05, 3.55340e+04],\n",
       "       [0.00000e+00, 0.00000e+00, 2.21770e+04, 1.54806e+05, 2.83340e+04],\n",
       "       [0.00000e+00, 1.00000e+00, 1.00000e+03, 1.24153e+05, 1.90300e+03],\n",
       "       [1.00000e+00, 0.00000e+00, 1.31500e+03, 1.15816e+05, 2.97114e+05],\n",
       "       [0.00000e+00, 0.00000e+00, 0.00000e+00, 1.35426e+05, 0.00000e+00],\n",
       "       [0.00000e+00, 1.00000e+00, 5.42000e+02, 5.17430e+04, 0.00000e+00],\n",
       "       [0.00000e+00, 0.00000e+00, 0.00000e+00, 1.16983e+05, 4.51730e+04]])"
      ]
     },
     "execution_count": 43,
     "metadata": {},
     "output_type": "execute_result"
    }
   ],
   "source": [
    "X"
   ]
  },
  {
   "cell_type": "code",
   "execution_count": 44,
   "metadata": {},
   "outputs": [],
   "source": [
    "X = X.astype(int)"
   ]
  },
  {
   "cell_type": "code",
   "execution_count": 46,
   "metadata": {},
   "outputs": [
    {
     "data": {
      "text/plain": [
       "array([[     0,      1, 165349, 136897, 471784],\n",
       "       [     0,      0, 162597, 151377, 443898],\n",
       "       [     1,      0, 153441, 101145, 407934],\n",
       "       [     0,      1, 144372, 118671, 383199],\n",
       "       [     1,      0, 142107,  91391, 366168],\n",
       "       [     0,      1, 131876,  99814, 362861],\n",
       "       [     0,      0, 134615, 147198, 127716],\n",
       "       [     1,      0, 130298, 145530, 323876],\n",
       "       [     0,      1, 120542, 148718, 311613],\n",
       "       [     0,      0, 123334, 108679, 304981],\n",
       "       [     1,      0, 101913, 110594, 229160],\n",
       "       [     0,      0, 100671,  91790, 249744],\n",
       "       [     1,      0,  93863, 127320, 249839],\n",
       "       [     0,      0,  91992, 135495, 252664],\n",
       "       [     1,      0, 119943, 156547, 256512],\n",
       "       [     0,      1, 114523, 122616, 261776],\n",
       "       [     0,      0,  78013, 121597, 264346],\n",
       "       [     0,      1,  94657, 145077, 282574],\n",
       "       [     1,      0,  91749, 114175, 294919],\n",
       "       [     0,      1,  86419, 153514,      0],\n",
       "       [     0,      0,  76253, 113867, 298664],\n",
       "       [     0,      1,  78389, 153773, 299737],\n",
       "       [     1,      0,  73994, 122782, 303319],\n",
       "       [     1,      0,  67532, 105751, 304768],\n",
       "       [     0,      1,  77044,  99281, 140574],\n",
       "       [     0,      0,  64664, 139553, 137962],\n",
       "       [     1,      0,  75328, 144135, 134050],\n",
       "       [     0,      1,  72107, 127864, 353183],\n",
       "       [     1,      0,  66051, 182645, 118148],\n",
       "       [     0,      1,  65605, 153032, 107138],\n",
       "       [     1,      0,  61994, 115641,  91131],\n",
       "       [     0,      1,  61136, 152701,  88218],\n",
       "       [     0,      0,  63408, 129219,  46085],\n",
       "       [     1,      0,  55493, 103057, 214634],\n",
       "       [     0,      0,  46426, 157693, 210797],\n",
       "       [     0,      1,  46014,  85047, 205517],\n",
       "       [     1,      0,  28663, 127056, 201126],\n",
       "       [     0,      0,  44069,  51283, 197029],\n",
       "       [     0,      1,  20229,  65947, 185265],\n",
       "       [     0,      0,  38558,  82982, 174999],\n",
       "       [     0,      0,  28754, 118546, 172795],\n",
       "       [     1,      0,  27892,  84710, 164470],\n",
       "       [     0,      0,  23640,  96189, 148001],\n",
       "       [     0,      1,  15505, 127382,  35534],\n",
       "       [     0,      0,  22177, 154806,  28334],\n",
       "       [     0,      1,   1000, 124153,   1903],\n",
       "       [     1,      0,   1315, 115816, 297114],\n",
       "       [     0,      0,      0, 135426,      0],\n",
       "       [     0,      1,    542,  51743,      0],\n",
       "       [     0,      0,      0, 116983,  45173]])"
      ]
     },
     "execution_count": 46,
     "metadata": {},
     "output_type": "execute_result"
    }
   ],
   "source": [
    "X"
   ]
  },
  {
   "cell_type": "code",
   "execution_count": 47,
   "metadata": {},
   "outputs": [],
   "source": [
    "from sklearn.model_selection import train_test_split"
   ]
  },
  {
   "cell_type": "code",
   "execution_count": 49,
   "metadata": {},
   "outputs": [],
   "source": [
    "X_train, X_test, y_train, y_test = train_test_split(X, y, test_size = 0.2, random_state = 0)"
   ]
  },
  {
   "cell_type": "markdown",
   "metadata": {},
   "source": [
    "# Fitting Multiple Linear Regression to Training Set"
   ]
  },
  {
   "cell_type": "code",
   "execution_count": 50,
   "metadata": {},
   "outputs": [],
   "source": [
    "from sklearn.linear_model import LinearRegression"
   ]
  },
  {
   "cell_type": "code",
   "execution_count": 51,
   "metadata": {},
   "outputs": [
    {
     "data": {
      "text/plain": [
       "LinearRegression(copy_X=True, fit_intercept=True, n_jobs=None,\n",
       "         normalize=False)"
      ]
     },
     "execution_count": 51,
     "metadata": {},
     "output_type": "execute_result"
    }
   ],
   "source": [
    "regressor = LinearRegression()\n",
    "regressor.fit(X_train, y_train)"
   ]
  },
  {
   "cell_type": "markdown",
   "metadata": {},
   "source": [
    "# Predicting the Test Set Results"
   ]
  },
  {
   "cell_type": "code",
   "execution_count": 52,
   "metadata": {},
   "outputs": [],
   "source": [
    "y_predicted = regressor.predict(X_test)"
   ]
  },
  {
   "cell_type": "code",
   "execution_count": 53,
   "metadata": {},
   "outputs": [
    {
     "data": {
      "text/plain": [
       "array([103015.24646784, 132581.94062687, 132448.09397395,  71975.74395634,\n",
       "       178537.52007852, 116161.05196902,  67851.47761322,  98791.74112204,\n",
       "       113969.41004647, 167921.22416078])"
      ]
     },
     "execution_count": 53,
     "metadata": {},
     "output_type": "execute_result"
    }
   ],
   "source": [
    "y_predicted"
   ]
  },
  {
   "cell_type": "code",
   "execution_count": 56,
   "metadata": {},
   "outputs": [
    {
     "data": {
      "text/plain": [
       "array([103015, 132581, 132448,  71975, 178537, 116161,  67851,  98791,\n",
       "       113969, 167921])"
      ]
     },
     "execution_count": 56,
     "metadata": {},
     "output_type": "execute_result"
    }
   ],
   "source": [
    "y_predicted = y_predicted.astype(int)\n",
    "y_predicted"
   ]
  },
  {
   "cell_type": "code",
   "execution_count": 57,
   "metadata": {},
   "outputs": [
    {
     "data": {
      "text/plain": [
       "array([103282, 144259, 146121,  77798, 191050, 105008,  81229,  97483,\n",
       "       110352, 166187])"
      ]
     },
     "execution_count": 57,
     "metadata": {},
     "output_type": "execute_result"
    }
   ],
   "source": [
    "y_test = y_test.astype(int)\n",
    "y_test"
   ]
  },
  {
   "cell_type": "code",
   "execution_count": null,
   "metadata": {},
   "outputs": [],
   "source": []
  }
 ],
 "metadata": {
  "kernelspec": {
   "display_name": "Python 3",
   "language": "python",
   "name": "python3"
  },
  "language_info": {
   "codemirror_mode": {
    "name": "ipython",
    "version": 3
   },
   "file_extension": ".py",
   "mimetype": "text/x-python",
   "name": "python",
   "nbconvert_exporter": "python",
   "pygments_lexer": "ipython3",
   "version": "3.7.3"
  }
 },
 "nbformat": 4,
 "nbformat_minor": 2
}
